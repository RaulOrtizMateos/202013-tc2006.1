{
 "cells": [
  {
   "cell_type": "markdown",
   "metadata": {},
   "source": [
    "# Problem Set #3\n",
    "\n",
    "## Team exercises\n",
    "\n",
    "---\n",
    "\n",
    "_Student ID and Name_:\n",
    "\n",
    "_Student ID and Name_:\n",
    "\n",
    "_Student ID and Name_:\n",
    "\n",
    "---\n",
    "\n",
    "### Objective\n",
    "\n",
    "During this activity, students should be able to:\n",
    "\n",
    "* Write functions of medium complexity using the Clojure programming language.\n",
    "\n",
    "---\n",
    "\n",
    "### Instructions\n",
    "\n",
    "- With all the team members of your breakout room, write the required Clojure code to solve the following problems. Make sure each function passes all the unit tests.\n",
    "\n",
    "- Once the team has finished all the problems, use [this link](http://34.212.143.74/apps/s202013/tc2006/programming_problem_set_3/) to upload the notebook file.\n",
    "\n",
    "- Only one team member needs to upload the file.\n",
    "\n",
    "- Due date is Monday, September 7."
   ]
  },
  {
   "cell_type": "code",
   "execution_count": 1,
   "metadata": {},
   "outputs": [
    {
     "data": {
      "text/plain": [
       "nil"
      ]
     },
     "execution_count": 1,
     "metadata": {},
     "output_type": "execute_result"
    }
   ],
   "source": [
    ";;; External function required for this notebook.\n",
    "(require '[clojure.test :refer [is]])"
   ]
  },
  {
   "cell_type": "markdown",
   "metadata": {},
   "source": [
    "---\n",
    "\n",
    "## Problem 1\n",
    "\n",
    "The function `deep-swapper` takes three inputs: two non-list values `x` and `y`, and a list `lst`. It returns a new list in which every occurrence of `x` in `lst` is swapped with `y`, and vice versa. The function should swap the elements contained in any nested lists. "
   ]
  },
  {
   "cell_type": "code",
   "execution_count": 2,
   "metadata": {},
   "outputs": [
    {
     "data": {
      "text/plain": [
       "#'user/deep-swapper"
      ]
     },
     "execution_count": 2,
     "metadata": {},
     "output_type": "execute_result"
    }
   ],
   "source": [
    "(defn deep-swapper\n",
    "  [x y lst]\n",
    "  (cond\n",
    "    (empty? lst)\n",
    "    ()\n",
    "    \n",
    "    (list? (first lst))\n",
    "    (cons (deep-swapper x y (first lst))\n",
    "          (deep-swapper x y (rest lst)))\n",
    "    \n",
    "    (= x (first lst))\n",
    "    (cons y (deep-swapper x y (rest lst)))\n",
    "    \n",
    "    (= y (first lst))\n",
    "    (cons x (deep-swapper x y (rest lst)))\n",
    "    \n",
    "    :else\n",
    "    (cons (first lst) (deep-swapper x y (rest lst)))))"
   ]
  },
  {
   "cell_type": "code",
   "execution_count": 3,
   "metadata": {},
   "outputs": [
    {
     "data": {
      "text/plain": [
       "true"
      ]
     },
     "execution_count": 3,
     "metadata": {},
     "output_type": "execute_result"
    }
   ],
   "source": [
    ";;; Unit tests:\n",
    "(is (= ()\n",
    "       (deep-swapper 1 2 ())))\n",
    "(is (= '(4 ((3)) (4 9 9) 3 (3 3) 9 9 7 \n",
    "         9 (3 (7 8) 7 (8) 4) 5 6)\n",
    "       (deep-swapper 1 2 '(4 ((3)) (4 9 9) 3 (3 3) 9 9 7\n",
    "                          9 (3 (7 8) 7 (8) 4) 5 6))))\n",
    "(is (= '(4 4 5 (((1)) 4 (8 (1 5)) 6 4 5 \n",
    "         (2 9 (5 9 9) ((((2)))) (1 1) 4) 2) 1)\n",
    "       (deep-swapper 1 2 '(4 4 5 (((2)) 4 (8 (2 5)) 6 4 5\n",
    "                           (1 9 (5 9 9) ((((1)))) (2 2) 4) 1) 2))))\n",
    "(is (= '((soft) (purr warm (((purr))) (little ball of fur))\n",
    "         happy purr sleepy purr (kitty kitty kitty))\n",
    "       (deep-swapper 'purr\n",
    "                     'kitty\n",
    "                     '((soft) (kitty warm (((kitty))) (little ball of fur)) \n",
    "                        happy kitty sleepy kitty (purr purr purr)))))"
   ]
  },
  {
   "cell_type": "markdown",
   "metadata": {},
   "source": [
    "---\n",
    "\n",
    "## Problem 2\n",
    "\n",
    "The function `gcd` takes two positive integer inputs `a` and `b` as arguments, where `a` > 0 and `b` > 0. It returns the greatest common divisor (GCD) of `a` and `b`. You must NOT use the predefined `gcd` function from the `clojure.math.numeric-tower` namespace.\n",
    "\n",
    "**NOTE:** The GCD of two integers is the largest positive integer that divides both numbers exactly. For example, the GCD of 20 and 16 is 4. "
   ]
  },
  {
   "cell_type": "code",
   "execution_count": 4,
   "metadata": {},
   "outputs": [
    {
     "data": {
      "text/plain": [
       "#'user/gcd"
      ]
     },
     "execution_count": 4,
     "metadata": {},
     "output_type": "execute_result"
    }
   ],
   "source": [
    "(defn gcd\n",
    "  [a b]\n",
    "  (->>\n",
    "    (range (min a b) 0 -1)\n",
    "    (drop-while (fn [x] (not (and (zero? (rem a x))\n",
    "                                  (zero? (rem b x))))))\n",
    "    first))"
   ]
  },
  {
   "cell_type": "code",
   "execution_count": 5,
   "metadata": {},
   "outputs": [
    {
     "data": {
      "text/plain": [
       "10"
      ]
     },
     "execution_count": 5,
     "metadata": {},
     "output_type": "execute_result"
    }
   ],
   "source": [
    "(gcd 20 30)"
   ]
  },
  {
   "cell_type": "code",
   "execution_count": 6,
   "metadata": {},
   "outputs": [
    {
     "data": {
      "text/plain": [
       "true"
      ]
     },
     "execution_count": 6,
     "metadata": {},
     "output_type": "execute_result"
    }
   ],
   "source": [
    ";;; Unit tests:\n",
    "(is (= 1 (gcd 13 7919)))\n",
    "(is (= 4 (gcd 20 16)))\n",
    "(is (= 6 (gcd 54 24)))\n",
    "(is (= 7 (gcd 6307 1995)))\n",
    "(is (= 12 (gcd 48 180)))\n",
    "(is (= 14 (gcd 42 56)))"
   ]
  },
  {
   "cell_type": "markdown",
   "metadata": {},
   "source": [
    "---\n",
    "\n",
    "## Problem 3\n",
    "\n",
    "The function `insert-everywhere` takes two inputs: an object `x` and a list `lst`. It returns a new list with all the possible ways in which `x` can be inserted into every position of `lst`."
   ]
  },
  {
   "cell_type": "code",
   "execution_count": 7,
   "metadata": {},
   "outputs": [
    {
     "data": {
      "text/plain": [
       "#'user/insert-everywhere"
      ]
     },
     "execution_count": 7,
     "metadata": {},
     "output_type": "execute_result"
    }
   ],
   "source": [
    "(defn insert-everywhere\n",
    "  [x lst]\n",
    "  (for [p (range (inc (count lst)))] \n",
    "    (concat (take p lst)\n",
    "            (list x)\n",
    "            (drop p lst))))"
   ]
  },
  {
   "cell_type": "code",
   "execution_count": 8,
   "metadata": {},
   "outputs": [
    {
     "data": {
      "text/plain": [
       "true"
      ]
     },
     "execution_count": 8,
     "metadata": {},
     "output_type": "execute_result"
    }
   ],
   "source": [
    ";;; Unit tests:\n",
    "(is (= '((1)) (insert-everywhere 1 ())))\n",
    "(is (= '((1 a) (a 1)) (insert-everywhere 1 '(a))))\n",
    "(is (= '((1 a b c) (a 1 b c) (a b 1 c) (a b c 1))\n",
    "       (insert-everywhere 1 '(a b c))))\n",
    "(is (= '((1 a b c d e)\n",
    "         (a 1 b c d e)\n",
    "         (a b 1 c d e)\n",
    "         (a b c 1 d e)\n",
    "         (a b c d 1 e)\n",
    "         (a b c d e 1))\n",
    "       (insert-everywhere 1 '(a b c d e))))\n",
    "(is (= '((x 1 2 3 4 5 6 7 8 9 10)\n",
    "         (1 x 2 3 4 5 6 7 8 9 10)\n",
    "         (1 2 x 3 4 5 6 7 8 9 10)\n",
    "         (1 2 3 x 4 5 6 7 8 9 10)\n",
    "         (1 2 3 4 x 5 6 7 8 9 10)\n",
    "         (1 2 3 4 5 x 6 7 8 9 10)\n",
    "         (1 2 3 4 5 6 x 7 8 9 10)\n",
    "         (1 2 3 4 5 6 7 x 8 9 10)\n",
    "         (1 2 3 4 5 6 7 8 x 9 10)\n",
    "         (1 2 3 4 5 6 7 8 9 x 10)\n",
    "         (1 2 3 4 5 6 7 8 9 10 x))\n",
    "       (insert-everywhere 'x '(1 2 3 4 5 6 7 8 9 10))))"
   ]
  },
  {
   "cell_type": "markdown",
   "metadata": {},
   "source": [
    "---\n",
    "\n",
    "## Problem 4\n",
    "\n",
    "The function `deep-reverse` takes a list as its input. It returns a list with the same elements as its input but in reverse order. If there are any nested lists, these too should be reversed. "
   ]
  },
  {
   "cell_type": "code",
   "execution_count": null,
   "metadata": {},
   "outputs": [],
   "source": [
    "(defn deep-reverse\n",
    "  [lst]\n",
    "  ;;; your code goes here\n",
    "  nil)"
   ]
  },
  {
   "cell_type": "code",
   "execution_count": null,
   "metadata": {},
   "outputs": [],
   "source": [
    ";;; Unit tests:\n",
    "(is (= () (deep-reverse ())))\n",
    "(is (= '(3 (d c b) a) (deep-reverse '(a (b c d) 3))))\n",
    "(is (= '(((6 5) 4) 3 (2 1))\n",
    "       (deep-reverse '((1 2) 3 (4 (5 6))))))"
   ]
  },
  {
   "cell_type": "markdown",
   "metadata": {},
   "source": [
    "---\n",
    "\n",
    "## Problem 5\n",
    "\n",
    "The function `pack` takes a list `lst` as its input. If `lst` contains consecutive repeated elements they should be placed in separate sublists. "
   ]
  },
  {
   "cell_type": "code",
   "execution_count": null,
   "metadata": {},
   "outputs": [],
   "source": [
    "(defn pack\n",
    "  [lst]\n",
    "  ;;; your code goes here\n",
    "  nil)"
   ]
  },
  {
   "cell_type": "code",
   "execution_count": null,
   "metadata": {},
   "outputs": [],
   "source": [
    "(partition-by identity '(1 2 2 2 3 3 4 4 4 4 1 1 1))"
   ]
  },
  {
   "cell_type": "code",
   "execution_count": null,
   "metadata": {},
   "outputs": [],
   "source": [
    ";;; Unit tests:\n",
    "(is (= () (pack ())))\n",
    "(is (= '((a a a a) (b) (c c) (a a) (d) (e e e e))\n",
    "       (pack '(a a a a b c c a a d e e e e))))\n",
    "(is (= '((1) (2) (3) (4) (5)) (pack '(1 2 3 4 5))))\n",
    "(is (= '((9 9 9 9 9 9 9 9 9)) (pack '(9 9 9 9 9 9 9 9 9))))"
   ]
  },
  {
   "cell_type": "markdown",
   "metadata": {},
   "source": [
    "---\n",
    "\n",
    "## Problem 6\n",
    "\n",
    "The function `compress` takes a list `lst` as its input. If `lst` contains consecutive repeated elements, they should be replaced with a single copy of the element. The order of the elements should not be changed. "
   ]
  },
  {
   "cell_type": "code",
   "execution_count": null,
   "metadata": {},
   "outputs": [],
   "source": [
    "(defn compress\n",
    "  [lst]\n",
    "  ;;; your code goes here\n",
    "  nil)"
   ]
  },
  {
   "cell_type": "code",
   "execution_count": null,
   "metadata": {},
   "outputs": [],
   "source": [
    ";;; Unit tests:\n",
    "(is (= () (compress ())))\n",
    "(is (= '(a b c d) (compress '(a b c d))))\n",
    "(is (= '(a b c a d e)\n",
    "       (compress '(a a a a b c c a a d e e e e))))\n",
    "(is (= '(a) (compress '(a a a a a a a a a a))))"
   ]
  },
  {
   "cell_type": "markdown",
   "metadata": {},
   "source": [
    "---\n",
    "\n",
    "## Problem 7\n",
    "\n",
    "The function `encode` takes a list `lst` as its input. Consecutive duplicates of elements in `lst` are encoded as vectors `[n e]`, where `n` is the number of duplicates of the element `e`."
   ]
  },
  {
   "cell_type": "code",
   "execution_count": null,
   "metadata": {},
   "outputs": [],
   "source": [
    "(defn encode\n",
    "  [lst]\n",
    "  ;;; your code goes here\n",
    "  nil)"
   ]
  },
  {
   "cell_type": "code",
   "execution_count": null,
   "metadata": {},
   "outputs": [],
   "source": [
    ";;; Unit tests:\n",
    "(is (= () (encode ())))\n",
    "(is (= '([4 a] [1 b] [2 c] [2 a] [1 d] [4 e])\n",
    "       (encode '(a a a a b c c a a d e e e e))))\n",
    "(is (= '([1 1] [1 2] [1 3] [1 4] [1 5])\n",
    "       (encode '(1 2 3 4 5))))\n",
    "(is (= '([9 9]) (encode '(9 9 9 9 9 9 9 9 9))))"
   ]
  },
  {
   "cell_type": "markdown",
   "metadata": {},
   "source": [
    "---\n",
    "\n",
    "## Problem 8\n",
    "\n",
    "The function `encode-modified` takes a list `lst` as its input. It works the same as the previous problem, but if an element has no duplicates it is simply copied into the result list. Only elements with duplicates are converted to `[n e]` vectors."
   ]
  },
  {
   "cell_type": "code",
   "execution_count": null,
   "metadata": {},
   "outputs": [],
   "source": [
    "(defn encode-modified \n",
    "  [lst]\n",
    "  ;;; your code goes here\n",
    "  nil)"
   ]
  },
  {
   "cell_type": "code",
   "execution_count": null,
   "metadata": {},
   "outputs": [],
   "source": [
    ";;; Unit tests:\n",
    "(is (= () (encode-modified ())))\n",
    "(is (= '([4 a] b [2 c] [2 a] d [4 e])\n",
    "       (encode-modified '(a a a a b c c a a d e e e e))))\n",
    "(is (= '(1 2 3 4 5) (encode-modified '(1 2 3 4 5))))\n",
    "(is (= '([9 9]) (encode-modified '(9 9 9 9 9 9 9 9 9))))"
   ]
  },
  {
   "cell_type": "markdown",
   "metadata": {},
   "source": [
    "---\n",
    "\n",
    "## Problem 9\n",
    "\n",
    "The function `decode` takes as its input an encoded list `lst` that has the same structure as the resulting list from the previous problem. It returns the decoded version of `lst`."
   ]
  },
  {
   "cell_type": "code",
   "execution_count": null,
   "metadata": {},
   "outputs": [],
   "source": [
    "(defn decode\n",
    "  [lst]\n",
    "  ;;; your code goes here\n",
    "  nil)"
   ]
  },
  {
   "cell_type": "code",
   "execution_count": null,
   "metadata": {},
   "outputs": [],
   "source": [
    ";;; Unit tests:\n",
    "(is (= () (decode ())))\n",
    "(is (= '(a a a a b c c a a d e e e e)\n",
    "       (decode '([4 a] b [2 c] [2 a] d [4 e]))))\n",
    "(is (= '(1 2 3 4 5) (decode '(1 2 3 4 5))))\n",
    "(is (= '(9 9 9 9 9 9 9 9 9) (decode '([9 9]))))"
   ]
  }
 ],
 "metadata": {
  "kernelspec": {
   "display_name": "Clojure (clojupyter=0.3.2=1)",
   "language": "clojure",
   "name": "conda-clojupyter"
  },
  "language_info": {
   "file_extension": ".clj",
   "mimetype": "text/x-clojure",
   "name": "clojure",
   "version": "1.10.1"
  }
 },
 "nbformat": 4,
 "nbformat_minor": 4
}
