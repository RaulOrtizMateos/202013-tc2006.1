{
 "cells": [
  {
   "cell_type": "markdown",
   "metadata": {},
   "source": [
    "# Problem Set #5\n",
    "\n",
    "## Team exercises\n",
    "\n",
    "---\n",
    "\n",
    "_Student ID and Name_:\n",
    "\n",
    "_Student ID and Name_:\n",
    "\n",
    "_Student ID and Name_:\n",
    "\n",
    "---\n",
    "\n",
    "### Objective\n",
    "\n",
    "During this activity, students should be able to:\n",
    "\n",
    "* Modify the Lisp metacircular evaluator in order to extend its functionality. \n",
    "\n",
    "---\n",
    "\n",
    "### Instructions\n",
    "\n",
    "- With all the team members of your breakout room, modify the Lisp metacircular evaluator built in class in order to solve the following problems. Make sure each function passes all the unit tests.\n",
    "\n",
    "- Once the team has finished all the problems, use [this link](http://34.212.143.74/apps/s202013/tc2006/programming_problem_set_5/) to upload the notebook file.\n",
    "\n",
    "- Only one team member needs to upload the file.\n",
    "\n",
    "- Due date is Monday, Ocotber 5."
   ]
  },
  {
   "cell_type": "markdown",
   "metadata": {},
   "source": [
    "# Lisp Interpreter"
   ]
  },
  {
   "cell_type": "markdown",
   "metadata": {},
   "source": [
    "## Helper functions"
   ]
  },
  {
   "cell_type": "code",
   "execution_count": 1,
   "metadata": {},
   "outputs": [
    {
     "data": {
      "text/plain": [
       "#'user/third"
      ]
     },
     "execution_count": 1,
     "metadata": {},
     "output_type": "execute_result"
    }
   ],
   "source": [
    "(defn third\n",
    "  [lst]\n",
    "  (nth lst 2))"
   ]
  },
  {
   "cell_type": "code",
   "execution_count": 2,
   "metadata": {},
   "outputs": [
    {
     "data": {
      "text/plain": [
       "#'user/fourth"
      ]
     },
     "execution_count": 2,
     "metadata": {},
     "output_type": "execute_result"
    }
   ],
   "source": [
    "(defn fourth\n",
    "  [lst]\n",
    "  (nth lst 3))"
   ]
  },
  {
   "cell_type": "markdown",
   "metadata": {},
   "source": [
    "## Closure Data Structure"
   ]
  },
  {
   "cell_type": "code",
   "execution_count": 3,
   "metadata": {},
   "outputs": [
    {
     "data": {
      "text/plain": [
       "#'user/set-closure-env!"
      ]
     },
     "execution_count": 3,
     "metadata": {},
     "output_type": "execute_result"
    }
   ],
   "source": [
    "(import 'clojure.lang.IFn)\n",
    "\n",
    "(declare $eval)\n",
    "\n",
    "(deftype Closure\n",
    "  [env params body]\n",
    "  \n",
    "  IFn\n",
    "  \n",
    "  (applyTo [self args]\n",
    "    (let [extended-env (merge @env (zipmap params args))]\n",
    "      ($eval body extended-env))))\n",
    "\n",
    "(defn make-closure\n",
    "  [env params body]\n",
    "  (->Closure (atom env) params body))\n",
    "\n",
    "(defn set-closure-env!\n",
    "  [label-name closure]\n",
    "  (swap! (.env closure)\n",
    "         #(assoc % label-name closure)))"
   ]
  },
  {
   "cell_type": "markdown",
   "metadata": {},
   "source": [
    "## Main interpreter function"
   ]
  },
  {
   "cell_type": "code",
   "execution_count": 4,
   "metadata": {},
   "outputs": [
    {
     "data": {
      "text/plain": [
       "#'user/$eval"
      ]
     },
     "execution_count": 4,
     "metadata": {},
     "output_type": "execute_result"
    }
   ],
   "source": [
    "(defn $eval\n",
    "  [expr env]\n",
    "  \n",
    "  (cond\n",
    "    \n",
    "    ; Check for variable reference\n",
    "    (symbol? expr)\n",
    "    (if (contains? env expr)\n",
    "      (env expr)\n",
    "      (throw (RuntimeException. (str \"Unbound variable: \" expr))))\n",
    "    \n",
    "    ; Check for special forms\n",
    "    (list? expr)\n",
    "    (case (first expr)\n",
    "      \n",
    "      nil\n",
    "      ()\n",
    "      \n",
    "      QUOTE\n",
    "      (second expr)\n",
    "      \n",
    "      IF\n",
    "      (let [condition (second expr)\n",
    "            then (third expr)\n",
    "            else (fourth expr)]\n",
    "        (if ($eval condition env)\n",
    "          ($eval then env)\n",
    "          ($eval else env)))\n",
    "      \n",
    "      LAMBDA\n",
    "      (let [params (second expr)\n",
    "            body (third expr)]\n",
    "        (make-closure env params body))\n",
    "      \n",
    "      LABEL\n",
    "      (let [label-name (second expr)\n",
    "            closure ($eval (third expr) env)]\n",
    "        (set-closure-env! label-name closure)\n",
    "        closure)\n",
    "      \n",
    "      DO\n",
    "      (loop [x ($eval (second expr) env)\n",
    "             lst (rest (rest expr))]\n",
    "        (if (empty? lst)\n",
    "          x\n",
    "          (recur ($eval (first lst) env)\n",
    "                 (rest lst))))\n",
    "      \n",
    "      DOTIMES\n",
    "      (let [var   (first (second expr))\n",
    "            count ($eval (second (second expr)) env)\n",
    "            body  (third expr)]\n",
    "        (doseq [i (range count)]\n",
    "          ($eval body (assoc env var i))))\n",
    "      \n",
    "      ; Ordinary function application\n",
    "      (let [eval-all-expr (map #($eval % env) expr)\n",
    "            fun (first eval-all-expr)\n",
    "            args (rest eval-all-expr)]\n",
    "        (apply fun args)))\n",
    "    \n",
    "    ; Anything that is not symbol or a list evals to itself\n",
    "    :else\n",
    "    expr))"
   ]
  },
  {
   "cell_type": "markdown",
   "metadata": {},
   "source": [
    "## Unit Tests"
   ]
  },
  {
   "cell_type": "code",
   "execution_count": 5,
   "metadata": {},
   "outputs": [
    {
     "data": {
      "text/plain": [
       "nil"
      ]
     },
     "execution_count": 5,
     "metadata": {},
     "output_type": "execute_result"
    }
   ],
   "source": [
    "(require '[clojure.test :refer [is]])"
   ]
  },
  {
   "cell_type": "code",
   "execution_count": 6,
   "metadata": {},
   "outputs": [
    {
     "data": {
      "text/plain": [
       "true"
      ]
     },
     "execution_count": 6,
     "metadata": {},
     "output_type": "execute_result"
    }
   ],
   "source": [
    "(is (= 42 ($eval 42 {})))\n",
    "(is (= true ($eval true {})))\n",
    "(is (= \"hello\" ($eval \"hello\" {})))"
   ]
  },
  {
   "cell_type": "code",
   "execution_count": 7,
   "metadata": {},
   "outputs": [
    {
     "data": {
      "text/plain": [
       "true"
      ]
     },
     "execution_count": 7,
     "metadata": {},
     "output_type": "execute_result"
    }
   ],
   "source": [
    "(is (= 5 ($eval 'X {'X 5})))\n",
    "(is (= 7 ($eval 'C {'A 5, 'B 6, 'C 7})))"
   ]
  },
  {
   "cell_type": "code",
   "execution_count": 8,
   "metadata": {},
   "outputs": [
    {
     "data": {
      "text/plain": [
       "true"
      ]
     },
     "execution_count": 8,
     "metadata": {},
     "output_type": "execute_result"
    }
   ],
   "source": [
    "(is (= 'A ($eval '(QUOTE A) {})))\n",
    "(is (= '(1 2 3) ($eval '(QUOTE (1 2 3)) {})))\n",
    "(is (= 42 ($eval '(QUOTE 42) {})))"
   ]
  },
  {
   "cell_type": "code",
   "execution_count": 9,
   "metadata": {},
   "outputs": [
    {
     "data": {
      "text/plain": [
       "true"
      ]
     },
     "execution_count": 9,
     "metadata": {},
     "output_type": "execute_result"
    }
   ],
   "source": [
    "(is (= 2 ($eval '(IF 1 2 3) {})))\n",
    "(is (= 3 ($eval '(IF nil 2 3) {})))"
   ]
  },
  {
   "cell_type": "code",
   "execution_count": 10,
   "metadata": {},
   "outputs": [
    {
     "data": {
      "text/plain": [
       "true"
      ]
     },
     "execution_count": 10,
     "metadata": {},
     "output_type": "execute_result"
    }
   ],
   "source": [
    "(is (= 2 ($eval '(ADD 1 1) {'ADD +})))\n",
    "(is (= '(1 2 3 4)  ($eval '(CONS 1 (QUOTE (2 3 4))) {'CONS cons})))\n",
    "(is (= 1 ($eval '(CAR X) {'CAR first, 'X '(1 2 3 4)})))"
   ]
  },
  {
   "cell_type": "code",
   "execution_count": 11,
   "metadata": {},
   "outputs": [
    {
     "data": {
      "text/plain": [
       "true"
      ]
     },
     "execution_count": 11,
     "metadata": {},
     "output_type": "execute_result"
    }
   ],
   "source": [
    "(is (= 15 ($eval '((LAMBDA (X Y) \n",
    "                     (* X (+ Y 1))) \n",
    "                   3\n",
    "                   4) \n",
    "                 {'+ +, '* *})))\n",
    "(is (= Closure (type ($eval '(LAMBDA (X) X) {}))))\n",
    "(is (= 42 ($eval '((LAMBDA () 42)) {})))\n",
    "(is (= 8 ($eval '((LAMBDA (F X) \n",
    "                    (F (F (F X))))\n",
    "                  (LAMBDA (X) (* X 2))\n",
    "                  1)\n",
    "                {'* *})))"
   ]
  },
  {
   "cell_type": "code",
   "execution_count": 12,
   "metadata": {},
   "outputs": [
    {
     "data": {
      "text/plain": [
       "true"
      ]
     },
     "execution_count": 12,
     "metadata": {},
     "output_type": "execute_result"
    }
   ],
   "source": [
    "(is (= '(A A B B C C D D) \n",
    "       ($eval '((LABEL DUP (LAMBDA (X)\n",
    "                            (IF (NULL? X)\n",
    "                                ()\n",
    "                                (CONS (CAR X)\n",
    "                                      (CONS (CAR X)\n",
    "                                            (DUP (CDR X)))))))\n",
    "                (QUOTE (A B C D))) \n",
    "              {'NULL? empty?,\n",
    "               'CONS cons,\n",
    "               'CAR first,\n",
    "               'CDR rest})))\n",
    "(is (= 120\n",
    "       ($eval '((LABEL FACT (LAMBDA (N)\n",
    "                              (IF (ZERO? N)\n",
    "                                1\n",
    "                                (* N (FACT (- N 1))))))\n",
    "                5) \n",
    "              {'ZERO? zero?,\n",
    "               '* *,\n",
    "               '- -})))"
   ]
  },
  {
   "cell_type": "code",
   "execution_count": 13,
   "metadata": {},
   "outputs": [
    {
     "data": {
      "text/plain": [
       "true"
      ]
     },
     "execution_count": 13,
     "metadata": {},
     "output_type": "execute_result"
    }
   ],
   "source": [
    ";;; Unit tests:\n",
    "(is (nil? ($eval '(DO)\n",
    "                 {})))\n",
    "(is (= 3\n",
    "       ($eval '(DO (+ 1 2))\n",
    "              {'+ +})))\n",
    "(is (= 10\n",
    "       ($eval '(DO (+ 2 5)\n",
    "                   (- 2 5)\n",
    "                   (/ 2 5)\n",
    "                   (* 2 5))\n",
    "              {'+ +\n",
    "               '- -\n",
    "               '/ /\n",
    "               '* *})))\n",
    "(is (= \"7-32/510\"\n",
    "       (with-out-str\n",
    "         ($eval '(DO (PR (+ 2 5))\n",
    "                     (PR (- 2 5))\n",
    "                     (PR (/ 2 5))\n",
    "                     (PR (* 2 5)))\n",
    "                {'PR pr\n",
    "                 '+ +\n",
    "                 '- -\n",
    "                 '/ /\n",
    "                 '* *}))))\n",
    "(is (= (let [nl (System/lineSeparator)]\n",
    "         (str \"1\" nl \"2\" nl \"3\" nl))\n",
    "       (with-out-str\n",
    "         ($eval '(DO (PRN (+ -2 (+ 1 2)))\n",
    "                     (PRN (+ 1 1))\n",
    "                     (PRN 3)\n",
    "                     (+ 2 2))\n",
    "                {'+ +\n",
    "                 'PRN prn}))))\n",
    "(is (= (let [nl (System/lineSeparator)]\n",
    "         (str \"One potato,\" nl\n",
    "              \"two potatoes,\" nl\n",
    "              \"three potatoes,\" nl\n",
    "              \"four.\" nl))\n",
    "       (with-out-str\n",
    "         ($eval '(DO (PRINTLN \"One potato,\")\n",
    "                     (PRINTLN \"two potatoes,\")\n",
    "                     (PRINTLN \"three potatoes,\")\n",
    "                     (PRINTLN \"four.\"))\n",
    "                {'PRINTLN println}))))"
   ]
  },
  {
   "cell_type": "code",
   "execution_count": 14,
   "metadata": {},
   "outputs": [
    {
     "data": {
      "text/plain": [
       "true"
      ]
     },
     "execution_count": 14,
     "metadata": {},
     "output_type": "execute_result"
    }
   ],
   "source": [
    ";;; Unit tests:\n",
    "(is (= \"\"\n",
    "       (with-out-str ($eval '(DOTIMES (x 0)\n",
    "                               (PRINTLN x))\n",
    "                            {'PRINTLN println}))))\n",
    "(is (= \"0123456789\"\n",
    "       (with-out-str ($eval '(DOTIMES (x 10)\n",
    "                               (PR x))\n",
    "                            {'PR pr}))))\n",
    "(is (= (let [nl (System/lineSeparator)]\n",
    "         (str \"Line 0\" nl \"Line 1\" nl \"Line 2\" nl \"Line 3\" nl))\n",
    "       (with-out-str ($eval '(DOTIMES (i (+ 2 2))\n",
    "                               (PRINTLN \"Line\" i))\n",
    "                            {'PRINTLN println, '+ +}))))\n",
    "(is (= \"1-4-9-16-25-36-49-64-81-100-\"\n",
    "       (with-out-str ($eval '(DOTIMES (some-var (* 2 5))\n",
    "                               (PRINTF \"%d-\"\n",
    "                                       ((LAMBDA (x) (* x x))\n",
    "                                        (INC some-var))))\n",
    "                            {'PRINTF printf, '* *, 'INC inc}))))\n",
    "(is (= (str \"**************************************************\"\n",
    "            \"**************************************************\")\n",
    "       (with-out-str ($eval '(DOTIMES (mxyzptlk (* 2 2 5 5))\n",
    "                               (PRINT \"*\"))\n",
    "                            {'PRINT print, '* *}))))"
   ]
  }
 ],
 "metadata": {
  "kernelspec": {
   "display_name": "Clojure (clojupyter=0.3.2=1)",
   "language": "clojure",
   "name": "conda-clojupyter"
  },
  "language_info": {
   "file_extension": ".clj",
   "mimetype": "text/x-clojure",
   "name": "clojure",
   "version": "1.10.1"
  }
 },
 "nbformat": 4,
 "nbformat_minor": 4
}
