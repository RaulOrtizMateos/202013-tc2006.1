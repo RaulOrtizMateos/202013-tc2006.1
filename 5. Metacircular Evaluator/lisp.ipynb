{
 "cells": [
  {
   "cell_type": "markdown",
   "metadata": {},
   "source": [
    "# Lisp Interpreter"
   ]
  },
  {
   "cell_type": "markdown",
   "metadata": {},
   "source": [
    "## Helper functions"
   ]
  },
  {
   "cell_type": "code",
   "execution_count": 1,
   "metadata": {},
   "outputs": [
    {
     "data": {
      "text/plain": [
       "#'user/third"
      ]
     },
     "execution_count": 1,
     "metadata": {},
     "output_type": "execute_result"
    }
   ],
   "source": [
    "(defn third\n",
    "  [lst]\n",
    "  (nth lst 2))"
   ]
  },
  {
   "cell_type": "code",
   "execution_count": 2,
   "metadata": {},
   "outputs": [
    {
     "data": {
      "text/plain": [
       "#'user/fourth"
      ]
     },
     "execution_count": 2,
     "metadata": {},
     "output_type": "execute_result"
    }
   ],
   "source": [
    "(defn fourth\n",
    "  [lst]\n",
    "  (nth lst 3))"
   ]
  },
  {
   "cell_type": "markdown",
   "metadata": {},
   "source": [
    "## Main interpreter function"
   ]
  },
  {
   "cell_type": "code",
   "execution_count": 3,
   "metadata": {},
   "outputs": [
    {
     "data": {
      "text/plain": [
       "#'user/$eval"
      ]
     },
     "execution_count": 3,
     "metadata": {},
     "output_type": "execute_result"
    }
   ],
   "source": [
    "(defn $eval\n",
    "  [expr env]\n",
    "  \n",
    "  (cond\n",
    "    \n",
    "    ; Check for variable reference\n",
    "    (symbol? expr)\n",
    "    (if (contains? env expr)\n",
    "      (env expr)\n",
    "      (throw (RuntimeException. (str \"Unbound variable: \" expr))))\n",
    "    \n",
    "    ; Check for special forms\n",
    "    (list? expr)\n",
    "    (case (first expr)\n",
    "      \n",
    "      nil\n",
    "      ()\n",
    "      \n",
    "      QUOTE\n",
    "      (second expr)\n",
    "      \n",
    "      IF\n",
    "      (let [condition (second expr)\n",
    "            then (third expr)\n",
    "            else (fourth expr)]\n",
    "        (if ($eval condition env)\n",
    "          ($eval then env)\n",
    "          ($eval else env)))\n",
    "      \n",
    "      LAMBDA\n",
    "      nil\n",
    "      \n",
    "      LABEL\n",
    "      nil\n",
    "      \n",
    "      ; Ordinary function application\n",
    "      (let [eval-all-expr (map #($eval % env) expr)\n",
    "            fun (first eval-all-expr)\n",
    "            args (rest eval-all-expr)]\n",
    "        (apply fun args)))\n",
    "    \n",
    "    ; Anything that is not symbol or a list evals to itself\n",
    "    :else\n",
    "    expr))"
   ]
  },
  {
   "cell_type": "markdown",
   "metadata": {},
   "source": [
    "## Unit Tests"
   ]
  },
  {
   "cell_type": "code",
   "execution_count": 4,
   "metadata": {},
   "outputs": [
    {
     "data": {
      "text/plain": [
       "nil"
      ]
     },
     "execution_count": 4,
     "metadata": {},
     "output_type": "execute_result"
    }
   ],
   "source": [
    "(require '[clojure.test :refer [is]])"
   ]
  },
  {
   "cell_type": "code",
   "execution_count": 5,
   "metadata": {},
   "outputs": [
    {
     "data": {
      "text/plain": [
       "true"
      ]
     },
     "execution_count": 5,
     "metadata": {},
     "output_type": "execute_result"
    }
   ],
   "source": [
    "(is (= 42 ($eval 42 {})))\n",
    "(is (= true ($eval true {})))\n",
    "(is (= \"hello\" ($eval \"hello\" {})))"
   ]
  },
  {
   "cell_type": "code",
   "execution_count": 6,
   "metadata": {},
   "outputs": [
    {
     "data": {
      "text/plain": [
       "true"
      ]
     },
     "execution_count": 6,
     "metadata": {},
     "output_type": "execute_result"
    }
   ],
   "source": [
    "(is (= 5 ($eval 'X {'X 5})))\n",
    "(is (= 7 ($eval 'C {'A 5, 'B 6, 'C 7})))"
   ]
  },
  {
   "cell_type": "code",
   "execution_count": 7,
   "metadata": {},
   "outputs": [
    {
     "data": {
      "text/plain": [
       "true"
      ]
     },
     "execution_count": 7,
     "metadata": {},
     "output_type": "execute_result"
    }
   ],
   "source": [
    "(is (= 'A ($eval '(QUOTE A) {})))\n",
    "(is (= '(1 2 3) ($eval '(QUOTE (1 2 3)) {})))\n",
    "(is (= 42 ($eval '(QUOTE 42) {})))"
   ]
  },
  {
   "cell_type": "code",
   "execution_count": 8,
   "metadata": {},
   "outputs": [
    {
     "data": {
      "text/plain": [
       "true"
      ]
     },
     "execution_count": 8,
     "metadata": {},
     "output_type": "execute_result"
    }
   ],
   "source": [
    "(is (= 2 ($eval '(IF 1 2 3) {})))\n",
    "(is (= 3 ($eval '(IF nil 2 3) {})))"
   ]
  },
  {
   "cell_type": "code",
   "execution_count": 9,
   "metadata": {},
   "outputs": [
    {
     "data": {
      "text/plain": [
       "true"
      ]
     },
     "execution_count": 9,
     "metadata": {},
     "output_type": "execute_result"
    }
   ],
   "source": [
    "(is (= 2 ($eval '(ADD 1 1) {'ADD +})))\n",
    "(is (= '(1 2 3 4)  ($eval '(CONS 1 (QUOTE (2 3 4))) {'CONS cons})))\n",
    "(is (= 1 ($eval '(CAR X) {'CAR first, 'X '(1 2 3 4)})))"
   ]
  },
  {
   "cell_type": "code",
   "execution_count": null,
   "metadata": {},
   "outputs": [],
   "source": []
  }
 ],
 "metadata": {
  "kernelspec": {
   "display_name": "Clojure (clojupyter=0.3.2=1)",
   "language": "clojure",
   "name": "conda-clojupyter"
  },
  "language_info": {
   "file_extension": ".clj",
   "mimetype": "text/x-clojure",
   "name": "clojure",
   "version": "1.10.1"
  }
 },
 "nbformat": 4,
 "nbformat_minor": 4
}
