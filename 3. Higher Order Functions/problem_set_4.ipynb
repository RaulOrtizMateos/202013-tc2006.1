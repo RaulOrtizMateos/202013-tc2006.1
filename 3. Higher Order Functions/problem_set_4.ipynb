{
 "cells": [
  {
   "cell_type": "markdown",
   "metadata": {},
   "source": [
    "# Problem Set #4\n",
    "\n",
    "## Team exercises\n",
    "\n",
    "---\n",
    "\n",
    "_Student ID and Name_:\n",
    "\n",
    "_Student ID and Name_:\n",
    "\n",
    "_Student ID and Name_:\n",
    "\n",
    "---\n",
    "\n",
    "### Objective\n",
    "\n",
    "During this activity, students should be able to:\n",
    "\n",
    "* Write higher-order functions using the Clojure programming language. \n",
    "\n",
    "---\n",
    "\n",
    "### Instructions\n",
    "\n",
    "- With all the team members of your breakout room, write the required Clojure code to solve the following problems. Make sure each function passes all the unit tests.\n",
    "\n",
    "- Once the team has finished all the problems, use [this link](http://34.212.143.74/apps/s202013/tc2006/programming_problem_set_4/) to upload the notebook file.\n",
    "\n",
    "- Only one team member needs to upload the file.\n",
    "\n",
    "- Due date is Monday, September 14."
   ]
  },
  {
   "cell_type": "code",
   "execution_count": 1,
   "metadata": {},
   "outputs": [
    {
     "data": {
      "text/plain": [
       "#'user/aprox="
      ]
     },
     "execution_count": 1,
     "metadata": {},
     "output_type": "execute_result"
    }
   ],
   "source": [
    ";;; External and internal functions required for this notebook.\n",
    "(require '[clojure.test :refer [is]])\n",
    "(require '[cemerick.pomegranate :refer [add-dependencies]])\n",
    "(add-dependencies :coordinates '[[org.clojure/math.numeric-tower \"0.0.4\"]])\n",
    "(require '[clojure.math.numeric-tower :refer [abs]])\n",
    "\n",
    "(defn aprox=\n",
    "  \"Checks if x is approximately equal to y. Returns true\n",
    "  if |x - y| < epsilon, or false otherwise.\"\n",
    "  [x y epsilon]\n",
    "  (< (abs (- x y)) epsilon))"
   ]
  },
  {
   "cell_type": "markdown",
   "metadata": {},
   "source": [
    "---\n",
    "\n",
    "## Problem 1\n",
    "\n",
    "The `argswap` function takes as input a two argument function `f` and returns a new function that behaves like `f` but with the order of its two arguments swapped. In other words:\n",
    "\n",
    "$$\n",
    "((\\texttt{argswap} \\; f) \\; x \\; y) \\equiv (f \\; y \\; x)\n",
    "$$"
   ]
  },
  {
   "cell_type": "code",
   "execution_count": 2,
   "metadata": {},
   "outputs": [
    {
     "data": {
      "text/plain": [
       "#'user/argswap"
      ]
     },
     "execution_count": 2,
     "metadata": {},
     "output_type": "execute_result"
    }
   ],
   "source": [
    "(defn argswap\n",
    "  [f]\n",
    "  (fn [x y]\n",
    "    (f y x)))"
   ]
  },
  {
   "cell_type": "code",
   "execution_count": 3,
   "metadata": {},
   "outputs": [
    {
     "data": {
      "text/plain": [
       "true"
      ]
     },
     "execution_count": 3,
     "metadata": {},
     "output_type": "execute_result"
    }
   ],
   "source": [
    ";;; Unit tests:\n",
    "(is (= '(2 1)\n",
    "       ((argswap list) 1 2)))\n",
    "(is (= -7\n",
    "       ((argswap -) 10 3)))\n",
    "(is (= 1/4\n",
    "       ((argswap /) 8 2)))\n",
    "(is (= '((4 5 6) 1 2 3)\n",
    "       ((argswap cons) '(1 2 3) '(4 5 6))))\n",
    "(is (= '(1 0 4 25 100)\n",
    "       ((argswap map) '(-1 0 2 5 10) #(* % %))))"
   ]
  },
  {
   "cell_type": "markdown",
   "metadata": {},
   "source": [
    "---\n",
    "\n",
    "## Problem 2\n",
    "\n",
    "The function `there-exists-one` takes two inputs: a one argument predicate function `pred` and a list `lst`. Returns `true` if there is exactly one element in `lst` that satisfies `pred`, otherwise returns `false`. "
   ]
  },
  {
   "cell_type": "code",
   "execution_count": 4,
   "metadata": {},
   "outputs": [
    {
     "data": {
      "text/plain": [
       "#'user/there-exists-one"
      ]
     },
     "execution_count": 4,
     "metadata": {},
     "output_type": "execute_result"
    }
   ],
   "source": [
    "(defn there-exists-one\n",
    "  [pred lst]\n",
    "  (= 1 (count (filter pred lst))))"
   ]
  },
  {
   "cell_type": "code",
   "execution_count": 5,
   "metadata": {},
   "outputs": [
    {
     "data": {
      "text/plain": [
       "true"
      ]
     },
     "execution_count": 5,
     "metadata": {},
     "output_type": "execute_result"
    }
   ],
   "source": [
    ";;; Unit tests:\n",
    "(is (= false (there-exists-one pos? \n",
    "                               ())))\n",
    "(is (= true (there-exists-one pos?\n",
    "                              '(-1 -10 4 -5 -2 -1))))\n",
    "(is (= true (there-exists-one neg?\n",
    "                              '(-1))))\n",
    "(is (= false (there-exists-one symbol?\n",
    "                               '(4 8 15 16 23 42))))\n",
    "(is (= true (there-exists-one symbol?\n",
    "                              '(4 8 15 sixteen 23 42))))"
   ]
  },
  {
   "cell_type": "markdown",
   "metadata": {},
   "source": [
    "---\n",
    "\n",
    "## Problem 3\n",
    "\n",
    "The **derivative** of a function $f(x)$ with respect to variable $x$ is defined as: \n",
    "\n",
    "$$\n",
    "f'(x) \\equiv \\lim_{h\\rightarrow 0}\\frac{f(x+h)-f(x)}{h}\n",
    "$$\n",
    "\n",
    "Where $f$ must be a continuous function. Write the function `deriv` that takes `f` and `h` as its inputs, and returns a new function that takes `x` as input, and which represents the derivative of $f$ given a certain value for $h$.\n",
    "\n",
    "The unit tests verify the following derivatives: \n",
    "\n",
    "$$\n",
    "\\begin{align*}\n",
    "f(x)    &= x^3   \\\\\n",
    "f'(x)   &= 3x^2  \\\\\n",
    "f''(x)  &= 6x    \\\\\n",
    "f'''(x) &= 6     \\\\\n",
    "f'(5)   &= 75    \\\\\n",
    "f''(5)  &= 30    \\\\\n",
    "f'''(5) &= 6\n",
    "\\end{align*}\n",
    "$$"
   ]
  },
  {
   "cell_type": "code",
   "execution_count": null,
   "metadata": {},
   "outputs": [],
   "source": [
    "(defn deriv\n",
    "  [f h]\n",
    "  ;;; your code goes here\n",
    "  nil)"
   ]
  },
  {
   "cell_type": "code",
   "execution_count": null,
   "metadata": {},
   "outputs": [],
   "source": [
    "(defn f [x] (* x x x))\n",
    "(def df (deriv f 0.001))\n",
    "(def ddf (deriv df 0.001))\n",
    "(def dddf (deriv ddf 0.001))\n",
    "\n",
    ";;; Unit tests:\n",
    "(is (aprox= 75 (df 5) 0.05))\n",
    "(is (aprox= 30 (ddf 5) 0.05))\n",
    "(is (aprox= 6 (dddf 5) 0.05))"
   ]
  },
  {
   "cell_type": "markdown",
   "metadata": {},
   "source": [
    "---\n",
    "\n",
    "## Problem 4\n",
    "\n",
    "**Newton’s method** is a root-finding algorithm that is used to find successively better approximations. It can be summarized as follows: \n",
    "\n",
    "$$\n",
    "x_n =\n",
    "\\begin{cases}\n",
    "0 & \\text{ if } n=0 \\\\\n",
    "x_{n-1}-\\frac{f(x_{n-1})}{f'(x_{n-1})} & \\text{ if } n > 0\n",
    "\\end{cases}\n",
    "$$\n",
    "\n",
    "A few things worth noting:\n",
    "\n",
    "* $f$ must be a differentiable real-valued function.\n",
    "* Larger values of $n$ produce better approximations.\n",
    "* $x_0$ is the _initial guess_, which is recommended to be a value that is close to the solution. This allows getting sooner a better approximation. Yet, for simplicity, we always assume here that $x_0=0$.\n",
    "\n",
    "Write the function `newton` that takes `f` and `n` as its inputs, and returns the corresponding value of $x_n$\n",
    ". Use the `deriv` function from the previous problem to compute $f'$, with $h=0.0001$. "
   ]
  },
  {
   "cell_type": "code",
   "execution_count": null,
   "metadata": {},
   "outputs": [],
   "source": [
    "(defn newton\n",
    "  [f n]\n",
    "  ;;; your code goes here\n",
    "  nil)"
   ]
  },
  {
   "cell_type": "code",
   "execution_count": null,
   "metadata": {},
   "outputs": [],
   "source": [
    ";;; Unit tests:\n",
    "(is (aprox= 10.0\n",
    "            (newton (fn [x] (- x 10))\n",
    "                    1)\n",
    "            0.00001))\n",
    "(is (aprox= -0.5\n",
    "            (newton (fn [x] (+ (* 4 x) 2))\n",
    "                    1)\n",
    "            0.00001))\n",
    "(is (aprox= -1.0\n",
    "            (newton (fn [x] (+ (* x x x) 1))\n",
    "                    50)\n",
    "            0.00001))\n",
    "(is (aprox= -1.02987\n",
    "            (newton (fn [x] (+ (Math/cos x)\n",
    "                               (* 0.5 x)))\n",
    "                    5)\n",
    "            0.00001))"
   ]
  },
  {
   "cell_type": "markdown",
   "metadata": {},
   "source": [
    "---\n",
    "\n",
    "## Problem 5\n",
    "\n",
    "**Simpson’s rule** is a method for numeric integration: \n",
    "\n",
    "$$\n",
    "\\int_{a}^{b}f=\\frac{h}{3}(y_0 + 4y_1 + 2y_2 + 4y_3 + 2y_4 + \\cdots + 2y_{n-2} + 4y_{n-1} + y_n)\n",
    "$$\n",
    "\n",
    "Where $n$ is an even positive integer (if you increment the value of $n$ you get a better approximation), and $h$ and $y_k$ are defined as follows:\n",
    "\n",
    "$$\n",
    "h = \\frac{b - a}{n}\n",
    "$$\n",
    "\n",
    "$$\n",
    "y_k = f(a + kh)\n",
    "$$\n",
    "\n",
    "Write the function `integral`, that takes as arguments `a`, `b`, `n`, and `f`. It returns the value of the integral, using Simpson’s rule. The unit tests verify the following single and double integrals (with `n` = 10):\n",
    "\n",
    "$$\n",
    "\\int_{0}^{1} x^3\\textit{dx} = \\frac{1}{4}\n",
    "$$\n",
    "\n",
    "$$\n",
    "\\int_{1}^{2} \\int_{3}^{4} xy \\cdot \\textit{dx} \\cdot \\textit{dy} = \\frac{21}{4}\n",
    "$$\n"
   ]
  },
  {
   "cell_type": "code",
   "execution_count": null,
   "metadata": {},
   "outputs": [],
   "source": [
    "(defn integral\n",
    "  [a b n f]\n",
    "  ;;; your code goes here\n",
    "  nil)"
   ]
  },
  {
   "cell_type": "code",
   "execution_count": null,
   "metadata": {},
   "outputs": [],
   "source": [
    ";;; Unit tests:\n",
    "(is (= 1/4 \n",
    "       (integral 0 1 10 \n",
    "                 (fn [x] (* x x x)))))\n",
    "(is (= 21/4\n",
    "       (integral 1 2 10\n",
    "                 (fn [x]\n",
    "                   (integral 3 4 10\n",
    "                     (fn [y]\n",
    "                       (* x y)))))))"
   ]
  },
  {
   "cell_type": "markdown",
   "metadata": {},
   "source": [
    "---\n",
    "\n",
    "## Problem 6\n",
    "\n",
    "The function `binary-search` takes three inputs: a vector `vct` sorted in ascending order and with no repeated elements, a data value `x`, and a less than function `lt-fun`. It implements the **binary search algorithm**, searching for `x` in `vct` using the `lt-fun` to compare `x` with the elements contained in `vct`. The `lt-fun` should accept two inputs, $a$ and $b$, and return `true` if $a$ is less than $b$, or `false` otherwise. Note that `lt-fun` can be used to perform each and every relational comparison that you might need:\n",
    "\n",
    "    (lt-fun x y)                          ;;; Is x less than y?\n",
    "    (lt-fun y x)                          ;;; Is x greater than y?\n",
    "    (not (lt-fun x y))                    ;;; Is x greater or equal to y?\n",
    "    (not (lt-fun y x))                    ;;; Is x less or equal to y?\n",
    "    (or (lt-fun x y) (lt-fun y x))        ;;; Is x different from y?\n",
    "    (not (or (lt-fun x y) (lt-fun y x)))  ;;; Is x equal to y?\n",
    "\n",
    "\n",
    "The `binary-search` function returns the index where `x` is found in `vct` (the first element of the vector is at index 0), or `nil` if not found.\n",
    "\n",
    "Binary search consists in searching a sorted vector by repeatedly dividing the search interval in half. You begin with an interval covering the whole vector. If the value being searched is less than the item in the middle of the interval, narrow the interval to the lower half. Otherwise narrow it to the upper half. Repeatedly check until the value is found or the interval is empty."
   ]
  },
  {
   "cell_type": "code",
   "execution_count": null,
   "metadata": {},
   "outputs": [],
   "source": [
    "(defn binary-search\n",
    "  [vct x lt-fun]\n",
    "  ;;; your code goes here\n",
    "  nil)"
   ]
  },
  {
   "cell_type": "code",
   "execution_count": null,
   "metadata": {},
   "outputs": [],
   "source": [
    "(def small-list [4 8 15 16 23 42])\n",
    "\n",
    "(def big-list [0 2 5 10 11 13 16 20 24 26\n",
    "               29 30 31 32 34 37 40 43 44\n",
    "               46 50 53 58 59 62 63 66 67\n",
    "               70 72 77 79 80 83 85 86 94\n",
    "               95 96 99])\n",
    "\n",
    "(def animals [\"dog\" \"dragon\" \"horse\" \"monkey\" \"ox\"\n",
    "              \"pig\" \"rabbit\" \"rat\" \"rooster\" \"sheep\"\n",
    "              \"snake\" \"tiger\"])\n",
    "(defn str<\n",
    "  \"Returns true if a is less than b, otherwise\n",
    "   returns false. Designed to work with strings.\"\n",
    "  [a b]\n",
    "  (< (compare a b) 0))\n",
    "\n",
    ";;; Unit tests:\n",
    "(is (nil? (binary-search [] 5 <)))\n",
    "(is (= 3 (binary-search small-list 16 <)))\n",
    "(is (= 0 (binary-search small-list 4 <)))\n",
    "(is (= 5 (binary-search small-list 42 <)))\n",
    "(is (nil? (binary-search small-list 7 <)))\n",
    "(is (nil? (binary-search small-list 2 <)))\n",
    "(is (nil? (binary-search small-list 99 <)))\n",
    "(is (= 17 (binary-search big-list 43 <)))\n",
    "(is (= 0 (binary-search big-list 0 <)))\n",
    "(is (= 39 (binary-search big-list 99 <)))\n",
    "(is (nil? (binary-search big-list 12 <)))\n",
    "(is (nil? (binary-search big-list -1 <)))\n",
    "(is (nil? (binary-search big-list 100 <)))\n",
    "(is (= 5 (binary-search animals \"pig\" str<)))\n",
    "(is (= 0 (binary-search animals \"dog\" str<)))\n",
    "(is (= 11 (binary-search animals \"tiger\" str<)))\n",
    "(is (nil? (binary-search animals \"elephant\" str<)))\n",
    "(is (nil? (binary-search animals \"alligator\" str<)))\n",
    "(is (nil? (binary-search animals \"unicorn\" str<)))"
   ]
  }
 ],
 "metadata": {
  "kernelspec": {
   "display_name": "Clojure (clojupyter=0.3.2=1)",
   "language": "clojure",
   "name": "conda-clojupyter"
  },
  "language_info": {
   "file_extension": ".clj",
   "mimetype": "text/x-clojure",
   "name": "clojure",
   "version": "1.10.1"
  }
 },
 "nbformat": 4,
 "nbformat_minor": 4
}
