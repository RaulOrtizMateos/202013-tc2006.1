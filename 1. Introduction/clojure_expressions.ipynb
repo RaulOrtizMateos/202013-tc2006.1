{
 "cells": [
  {
   "cell_type": "markdown",
   "metadata": {},
   "source": [
    "\n",
    "_Student ID and Name_:\n",
    "\n",
    "_Student ID and Name_:\n",
    "\n",
    "_Student ID and Name_:\n",
    "\n",
    "---\n",
    "\n",
    "# Introduction to Clojure Expressions\n",
    "\n",
    "**Instructions:** Type and evaluate in this Notebook the Clojure expressiones contained in the following three images. Use one Notebook cell for each expression.\n",
    "\n",
    "* [Image 1](http://34.212.143.74/s202013/tc2006/clojure_expressions1.png)\n",
    "* [Image 2](http://34.212.143.74/s202013/tc2006/clojure_expressions2.png)\n",
    "* [Image 3](http://34.212.143.74/s202013/tc2006/clojure_expressions3.png)"
   ]
  },
  {
   "cell_type": "code",
   "execution_count": 1,
   "metadata": {},
   "outputs": [
    {
     "data": {
      "text/plain": [
       "12"
      ]
     },
     "execution_count": 1,
     "metadata": {},
     "output_type": "execute_result"
    }
   ],
   "source": [
    ";;; 1)\n",
    "12"
   ]
  },
  {
   "cell_type": "markdown",
   "metadata": {},
   "source": [
    "_... add new cells here ..._"
   ]
  },
  {
   "cell_type": "markdown",
   "metadata": {},
   "source": [
    "---\n",
    "\n",
    "Once you have completely finished the previous section, fill the following table according to what you observed previously.\n",
    "\n",
    "| Operator | What inputs does it take? | What does is produce as a result? |\n",
    "|---------|---|---|\n",
    "|`first`  |   |   |\n",
    "|`rest`   |   |   |\n",
    "|`cons`   |   |   |\n",
    "|`def`    |   |   |\n",
    "|`count`  |   |   |\n",
    "|`list`   |   |   |\n",
    "|`list?`  |   |   |\n",
    "|`empty?` |   |   |\n",
    "|`number?`|   |   |\n",
    "|`symbol?`|   |   |\n",
    "|`'`      |   |   |\n",
    "|`=`      |   |   |\n",
    "|`*`      |   |   |\n",
    "|`+`      |   |   |\n",
    "|`-`      |   |   |"
   ]
  }
 ],
 "metadata": {
  "kernelspec": {
   "display_name": "Clojure (clojupyter=0.3.2=1)",
   "language": "clojure",
   "name": "conda-clojupyter"
  },
  "language_info": {
   "file_extension": ".clj",
   "mimetype": "text/x-clojure",
   "name": "clojure",
   "version": "1.10.1"
  }
 },
 "nbformat": 4,
 "nbformat_minor": 4
}
